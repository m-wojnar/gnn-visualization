{
 "cells": [
  {
   "cell_type": "code",
   "execution_count": null,
   "metadata": {},
   "outputs": [],
   "source": [
    "# Install required packages.\n",
    "import os\n",
    "import sys\n",
    "\n",
    "module_path = os.path.abspath(os.path.join('..'))\n",
    "if module_path not in sys.path:\n",
    "    sys.path.append(module_path)\n",
    "\n",
    "import torch\n",
    "os.environ['TORCH'] = torch.__version__\n",
    "print(f\"torch version : {torch.__version__}\")\n",
    "\n",
    "\n",
    "%matplotlib widget\n",
    "# %matplotlib inline\n",
    "\n",
    "from sklearn.datasets import fetch_openml\n",
    "import pandas as pd\n",
    "import numpy as np\n",
    "import matplotlib.pyplot as plt\n",
    "import networkx as nx\n",
    "\n",
    "import utils\n",
    "device = 'cuda' if torch.cuda.is_available() else 'cpu'\n",
    "device"
   ]
  },
  {
   "cell_type": "code",
   "execution_count": null,
   "metadata": {},
   "outputs": [],
   "source": [
    "from data import FaissGenerator\n",
    "\n",
    "# Uncomment if needed\n",
    "\n",
    "generator = FaissGenerator('mnist_784', nn=100, cosine_metric=True)\n",
    "X, y, distances, indexes = generator.run()\n",
    "generator.save('mnist_784_nn100_cosine.pkl.lz4')\n",
    "X, y, distances, indexes = FaissGenerator.load('mnist_784_nn100_cosine.pkl.lz4')\n",
    "y = y.astype(np.int32)"
   ]
  },
  {
   "cell_type": "code",
   "execution_count": null,
   "metadata": {},
   "outputs": [],
   "source": [
    "print(X.shape)\n",
    "print(y.shape)\n",
    "print(distances.shape)\n",
    "print(indexes.shape)"
   ]
  },
  {
   "cell_type": "code",
   "execution_count": null,
   "metadata": {},
   "outputs": [],
   "source": [
    "from torch_geometric.data import Data, Dataset\n",
    "from numpy.random import default_rng\n",
    "\n",
    "\n",
    "def getDataGraph(data_size, K):\n",
    "    idxs = default_rng().choice(y.shape[0], size=data_size, replace=False)\n",
    "\n",
    "    edge_index = np.concatenate([indexes[idxs][:, [0, k]] for k in range(K)])\n",
    "    g = nx.Graph()\n",
    "    g.add_edges_from(edge_index)\n",
    "    idxs = g.nodes\n",
    "    reindexed_graph = nx.relabel.convert_node_labels_to_integers(g, first_label=0, ordering='default')\n",
    "\n",
    "    d0 = Data(x = torch.Tensor(X[idxs]),\n",
    "    pos = torch.Tensor(X[idxs]),\n",
    "    y = torch.LongTensor(y[idxs]),\n",
    "    edge_index = torch.LongTensor(np.array(reindexed_graph.edges)).T,\n",
    "    edge_attr = torch.Tensor(np.concatenate([distances[idxs][:, [0, k]] for k in range(K)]).T))\n",
    "\n",
    "    # assert d0.edge_index.max() + 1 == d0.x.shape[0]\n",
    "    assert d0.edge_index.max() + 1 <= d0.x.shape[0]\n",
    "    return d0"
   ]
  },
  {
   "cell_type": "code",
   "execution_count": null,
   "metadata": {},
   "outputs": [],
   "source": [
    "DATAS_NO = 10\n",
    "\n",
    "dataset = [getDataGraph(4000, 10) for _ in range(DATAS_NO)]\n",
    "d0 = dataset[0]"
   ]
  },
  {
   "cell_type": "code",
   "execution_count": null,
   "metadata": {},
   "outputs": [],
   "source": [
    "import torch\n",
    "from torch.nn import Linear\n",
    "from torch_geometric.nn import GCNConv\n",
    "\n",
    "\n",
    "class GCN(torch.nn.Module):\n",
    "    def __init__(self):\n",
    "        super().__init__()\n",
    "        torch.manual_seed(1234)\n",
    "        self.conv1 = GCNConv(dataset[0].num_features, 4)\n",
    "        self.conv2 = GCNConv(4, 4)\n",
    "        self.conv3 = GCNConv(4, 2)\n",
    "        self.classifier = Linear(2, 10)\n",
    "\n",
    "    def forward(self, x, edge_index):\n",
    "        h = self.conv1(x, edge_index)\n",
    "        h = h.tanh()\n",
    "        h = self.conv2(h, edge_index)\n",
    "        h = h.tanh()\n",
    "        h = self.conv3(h, edge_index)\n",
    "        h = h.tanh()  # Final GNN embedding space.\n",
    "        \n",
    "        # Apply a final (linear) classifier.\n",
    "        out = self.classifier(h)\n",
    "\n",
    "        return out, h\n",
    "\n",
    "GCN()"
   ]
  },
  {
   "cell_type": "code",
   "execution_count": null,
   "metadata": {},
   "outputs": [],
   "source": [
    "import time\n",
    "from IPython.display import Javascript  # Restrict height of output cell.\n",
    "display(Javascript('''google.colab.output.setIframeHeight(0, true, {maxHeight: 430})'''))\n",
    "\n",
    "model = GCN().to(device)\n",
    "criterion = torch.nn.CrossEntropyLoss()  # Define loss criterion.\n",
    "optimizer = torch.optim.Adam(model.parameters(), lr=0.01)  # Define optimizer.\n",
    "\n",
    "def train(data):\n",
    "    optimizer.zero_grad()  # Clear gradients.\n",
    "    data = data.to(device)\n",
    "    out, h = model(data.x, data.edge_index)  # Perform a single forward pass.\n",
    "    # loss = criterion(out[data.train_mask], data.y[data.train_mask])  # Compute the loss solely based on the training nodes.\n",
    "    loss = criterion(out, data.y)  # Compute the loss solely based on the training nodes.\n",
    "\n",
    "    loss.backward()  # Derive gradients.\n",
    "    optimizer.step()  # Update parameters based on gradients.\n",
    "    return loss, h\n",
    "\n",
    "H = [[] for _ in range(len(dataset))]\n",
    "C = [None for _ in range(len(dataset))]\n",
    "\n",
    "EPOCHS=10000\n",
    "for epoch in range(EPOCHS):\n",
    "    for i, data in enumerate(dataset):\n",
    "        loss, h = train(data)\n",
    "        H[i].append(h.detach().cpu())\n",
    "        if C[i] is None:\n",
    "            C[i] = data.y.cpu().numpy()\n",
    "    \n",
    "    if epoch % int(0.1 * EPOCHS) == 0:\n",
    "        print(f\"{epoch} / {EPOCHS}\")\n",
    "\n",
    "H = list(map(lambda hl: np.stack(hl), H))\n",
    "for i, (h, c) in enumerate(zip(H, C)):\n",
    "    np.save(f'tmp_H-{i}.npy', h)\n",
    "    np.save(f'tmp_C-{i}.npy', c)"
   ]
  },
  {
   "cell_type": "code",
   "execution_count": null,
   "metadata": {},
   "outputs": [],
   "source": [
    "H = [np.load(f'tmp_H-{i}.npy') for i in range(DATAS_NO)]\n",
    "C = [np.load(f'tmp_C-{i}.npy') for i in range(DATAS_NO)]\n",
    "\n",
    "a = utils.EmbeddingsScatterAnimation(H[0], C=C[0], xlim=(0, 1), ylim=(0, 1))"
   ]
  },
  {
   "cell_type": "code",
   "execution_count": null,
   "metadata": {},
   "outputs": [],
   "source": []
  }
 ],
 "metadata": {
  "kernelspec": {
   "display_name": "ML-primary",
   "language": "python",
   "name": "python3"
  },
  "language_info": {
   "codemirror_mode": {
    "name": "ipython",
    "version": 3
   },
   "file_extension": ".py",
   "mimetype": "text/x-python",
   "name": "python",
   "nbconvert_exporter": "python",
   "pygments_lexer": "ipython3",
   "version": "3.9.16"
  },
  "orig_nbformat": 4
 },
 "nbformat": 4,
 "nbformat_minor": 2
}
